{
  "nbformat": 4,
  "nbformat_minor": 0,
  "metadata": {
    "colab": {
      "provenance": [],
      "authorship_tag": "ABX9TyPqN7PLRaCGaGdzmFExwqy5",
      "include_colab_link": true
    },
    "kernelspec": {
      "name": "python3",
      "display_name": "Python 3"
    },
    "language_info": {
      "name": "python"
    }
  },
  "cells": [
    {
      "cell_type": "markdown",
      "metadata": {
        "id": "view-in-github",
        "colab_type": "text"
      },
      "source": [
        "<a href=\"https://colab.research.google.com/github/DaviPereira-ADS/a3-programacao/blob/main/Calculadora_de_Medias.ipynb\" target=\"_parent\"><img src=\"https://colab.research.google.com/assets/colab-badge.svg\" alt=\"Open In Colab\"/></a>"
      ]
    },
    {
      "cell_type": "markdown",
      "source": [
        "Exercicio A3 Programação\n"
      ],
      "metadata": {
        "id": "PA3QX2x0yq4q"
      }
    },
    {
      "cell_type": "code",
      "source": [
        "#Calculadora de Medias\n",
        "print(\"Calculadora de medias\")\n",
        "def calcular_media(nota1, nota2, nota3):\n",
        "    media = (nota1 + nota2 + nota3) / 3\n",
        "    return media\n",
        "\n",
        "def verificar_situacao(media):\n",
        "    if media >= 7:\n",
        "        print(\"Parabéns. Aprovado!\")\n",
        "    else:\n",
        "        print(\"Recuperação!\")\n",
        "\n",
        "nota1 = float(input(\"Digite a primeira nota: \"))\n",
        "nota2 = float(input(\"Digite a segunda nota: \"))\n",
        "nota3 = float(input(\"Digite a terceira nota: \"))\n",
        "\n",
        "media = calcular_media(nota1, nota2, nota3)\n",
        "print(f\"A média das notas é: {media} \")\n",
        "verificar_situacao(media)\n",
        "\n",
        "\n"
      ],
      "metadata": {
        "colab": {
          "base_uri": "https://localhost:8080/"
        },
        "id": "8MvkOqbTyxT5",
        "outputId": "7e54739a-f3c7-4857-c447-5972dd80e2de"
      },
      "execution_count": 13,
      "outputs": [
        {
          "output_type": "stream",
          "name": "stdout",
          "text": [
            "Calculadora de medias\n",
            "Digite a primeira nota: 1.1\n",
            "Digite a segunda nota: 1.1\n",
            "Digite a terceira nota: 1.1\n",
            "A média das notas é: 1.1 \n",
            "Recuperação!\n"
          ]
        }
      ]
    }
  ]
}