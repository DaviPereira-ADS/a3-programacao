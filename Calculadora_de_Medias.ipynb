{
  "nbformat": 4,
  "nbformat_minor": 0,
  "metadata": {
    "colab": {
      "provenance": [],
      "authorship_tag": "ABX9TyPD5sT6cc0MVo+Ae3ccMiKM",
      "include_colab_link": true
    },
    "kernelspec": {
      "name": "python3",
      "display_name": "Python 3"
    },
    "language_info": {
      "name": "python"
    }
  },
  "cells": [
    {
      "cell_type": "markdown",
      "metadata": {
        "id": "view-in-github",
        "colab_type": "text"
      },
      "source": [
        "<a href=\"https://colab.research.google.com/github/DaviPereira-ADS/a3-programacao/blob/main/Calculadora_de_Medias.ipynb\" target=\"_parent\"><img src=\"https://colab.research.google.com/assets/colab-badge.svg\" alt=\"Open In Colab\"/></a>"
      ]
    },
    {
      "cell_type": "markdown",
      "source": [
        "Exercicio A3 Programação\n"
      ],
      "metadata": {
        "id": "PA3QX2x0yq4q"
      }
    },
    {
      "cell_type": "code",
      "source": [
        "#Calculadora de Medias\n",
        "print(\"Calculadora de medias\")\n",
        "def calcular_media(nota1, nota2, nota3):\n",
        "    media = (nota1 + nota2 + nota3) / 3\n",
        "    return media\n",
        "\n",
        "def verificar_situacao(media):\n",
        "    if media >= 7:\n",
        "        print(\"Parabéns. Aprovado!\")\n",
        "    else:\n",
        "        print(\"Recuperação!\")\n",
        "\n",
        "nota1 = float(input(\"Digite a primeira nota: \"))\n",
        "nota2 = float(input(\"Digite a segunda nota: \"))\n",
        "nota3 = float(input(\"Digite a terceira nota: \"))\n",
        "\n",
        "media = calcular_media(nota1, nota2, nota3)\n",
        "print(f\"A média das notas é: {media} 1\")\n",
        "verificar_situacao(media)\n",
        "\n",
        "\n"
      ],
      "metadata": {
        "colab": {
          "base_uri": "https://localhost:8080/"
        },
        "id": "8MvkOqbTyxT5",
        "outputId": "a97b2490-f248-4041-fe18-0d21e34a6d12"
      },
      "execution_count": 19,
      "outputs": [
        {
          "output_type": "stream",
          "name": "stdout",
          "text": [
            "Calculadora de medias\n",
            "Digite a primeira nota: 10\n",
            "Digite a segunda nota: 10\n",
            "Digite a terceira nota: 10\n",
            "A média das notas é: 10.0 \n",
            "Parabéns. Aprovado!\n"
          ]
        }
      ]
    }
  ]
}